{
 "cells": [
  {
   "cell_type": "code",
   "execution_count": 35,
   "metadata": {
    "id": "HegzwV1muFBn"
   },
   "outputs": [],
   "source": [
    "\n",
    "\n",
    "import numpy as np\n",
    "import matplotlib.pyplot as plt\n",
    "import seaborn as sns\n",
    "import warnings\n",
    "\n",
    "%matplotlib inline\n",
    "sns.set()\n",
    "warnings.simplefilter('ignore')"
   ]
  },
  {
   "cell_type": "code",
   "execution_count": 36,
   "metadata": {
    "id": "MY6DU-bTtxA4"
   },
   "outputs": [],
   "source": [
    "from sklearn.tree import DecisionTreeClassifier\n",
    "from sklearn.model_selection import train_test_split\n",
    "import pandas as pd\n",
    "\n",
    "df = pd.read_csv(\"creditcard.csv\", index_col=None)"
   ]
  },
  {
   "cell_type": "code",
   "execution_count": 37,
   "metadata": {
    "colab": {
     "base_uri": "https://localhost:8080/",
     "height": 217
    },
    "id": "_zIKfBW7t6Dj",
    "outputId": "7b36940f-2b45-4cd4-8bfc-cd3ad0f18a0e"
   },
   "outputs": [
    {
     "data": {
      "text/html": [
       "<div>\n",
       "<style scoped>\n",
       "    .dataframe tbody tr th:only-of-type {\n",
       "        vertical-align: middle;\n",
       "    }\n",
       "\n",
       "    .dataframe tbody tr th {\n",
       "        vertical-align: top;\n",
       "    }\n",
       "\n",
       "    .dataframe thead th {\n",
       "        text-align: right;\n",
       "    }\n",
       "</style>\n",
       "<table border=\"1\" class=\"dataframe\">\n",
       "  <thead>\n",
       "    <tr style=\"text-align: right;\">\n",
       "      <th></th>\n",
       "      <th>Time</th>\n",
       "      <th>V1</th>\n",
       "      <th>V2</th>\n",
       "      <th>V3</th>\n",
       "      <th>V4</th>\n",
       "      <th>V5</th>\n",
       "      <th>V6</th>\n",
       "      <th>V7</th>\n",
       "      <th>V8</th>\n",
       "      <th>V9</th>\n",
       "      <th>...</th>\n",
       "      <th>V21</th>\n",
       "      <th>V22</th>\n",
       "      <th>V23</th>\n",
       "      <th>V24</th>\n",
       "      <th>V25</th>\n",
       "      <th>V26</th>\n",
       "      <th>V27</th>\n",
       "      <th>V28</th>\n",
       "      <th>Amount</th>\n",
       "      <th>Class</th>\n",
       "    </tr>\n",
       "  </thead>\n",
       "  <tbody>\n",
       "    <tr>\n",
       "      <th>0</th>\n",
       "      <td>0.0</td>\n",
       "      <td>-1.359807</td>\n",
       "      <td>-0.072781</td>\n",
       "      <td>2.536347</td>\n",
       "      <td>1.378155</td>\n",
       "      <td>-0.338321</td>\n",
       "      <td>0.462388</td>\n",
       "      <td>0.239599</td>\n",
       "      <td>0.098698</td>\n",
       "      <td>0.363787</td>\n",
       "      <td>...</td>\n",
       "      <td>-0.018307</td>\n",
       "      <td>0.277838</td>\n",
       "      <td>-0.110474</td>\n",
       "      <td>0.066928</td>\n",
       "      <td>0.128539</td>\n",
       "      <td>-0.189115</td>\n",
       "      <td>0.133558</td>\n",
       "      <td>-0.021053</td>\n",
       "      <td>149.62</td>\n",
       "      <td>0</td>\n",
       "    </tr>\n",
       "    <tr>\n",
       "      <th>1</th>\n",
       "      <td>0.0</td>\n",
       "      <td>1.191857</td>\n",
       "      <td>0.266151</td>\n",
       "      <td>0.166480</td>\n",
       "      <td>0.448154</td>\n",
       "      <td>0.060018</td>\n",
       "      <td>-0.082361</td>\n",
       "      <td>-0.078803</td>\n",
       "      <td>0.085102</td>\n",
       "      <td>-0.255425</td>\n",
       "      <td>...</td>\n",
       "      <td>-0.225775</td>\n",
       "      <td>-0.638672</td>\n",
       "      <td>0.101288</td>\n",
       "      <td>-0.339846</td>\n",
       "      <td>0.167170</td>\n",
       "      <td>0.125895</td>\n",
       "      <td>-0.008983</td>\n",
       "      <td>0.014724</td>\n",
       "      <td>2.69</td>\n",
       "      <td>0</td>\n",
       "    </tr>\n",
       "    <tr>\n",
       "      <th>2</th>\n",
       "      <td>1.0</td>\n",
       "      <td>-1.358354</td>\n",
       "      <td>-1.340163</td>\n",
       "      <td>1.773209</td>\n",
       "      <td>0.379780</td>\n",
       "      <td>-0.503198</td>\n",
       "      <td>1.800499</td>\n",
       "      <td>0.791461</td>\n",
       "      <td>0.247676</td>\n",
       "      <td>-1.514654</td>\n",
       "      <td>...</td>\n",
       "      <td>0.247998</td>\n",
       "      <td>0.771679</td>\n",
       "      <td>0.909412</td>\n",
       "      <td>-0.689281</td>\n",
       "      <td>-0.327642</td>\n",
       "      <td>-0.139097</td>\n",
       "      <td>-0.055353</td>\n",
       "      <td>-0.059752</td>\n",
       "      <td>378.66</td>\n",
       "      <td>0</td>\n",
       "    </tr>\n",
       "    <tr>\n",
       "      <th>3</th>\n",
       "      <td>1.0</td>\n",
       "      <td>-0.966272</td>\n",
       "      <td>-0.185226</td>\n",
       "      <td>1.792993</td>\n",
       "      <td>-0.863291</td>\n",
       "      <td>-0.010309</td>\n",
       "      <td>1.247203</td>\n",
       "      <td>0.237609</td>\n",
       "      <td>0.377436</td>\n",
       "      <td>-1.387024</td>\n",
       "      <td>...</td>\n",
       "      <td>-0.108300</td>\n",
       "      <td>0.005274</td>\n",
       "      <td>-0.190321</td>\n",
       "      <td>-1.175575</td>\n",
       "      <td>0.647376</td>\n",
       "      <td>-0.221929</td>\n",
       "      <td>0.062723</td>\n",
       "      <td>0.061458</td>\n",
       "      <td>123.50</td>\n",
       "      <td>0</td>\n",
       "    </tr>\n",
       "    <tr>\n",
       "      <th>4</th>\n",
       "      <td>2.0</td>\n",
       "      <td>-1.158233</td>\n",
       "      <td>0.877737</td>\n",
       "      <td>1.548718</td>\n",
       "      <td>0.403034</td>\n",
       "      <td>-0.407193</td>\n",
       "      <td>0.095921</td>\n",
       "      <td>0.592941</td>\n",
       "      <td>-0.270533</td>\n",
       "      <td>0.817739</td>\n",
       "      <td>...</td>\n",
       "      <td>-0.009431</td>\n",
       "      <td>0.798278</td>\n",
       "      <td>-0.137458</td>\n",
       "      <td>0.141267</td>\n",
       "      <td>-0.206010</td>\n",
       "      <td>0.502292</td>\n",
       "      <td>0.219422</td>\n",
       "      <td>0.215153</td>\n",
       "      <td>69.99</td>\n",
       "      <td>0</td>\n",
       "    </tr>\n",
       "  </tbody>\n",
       "</table>\n",
       "<p>5 rows × 31 columns</p>\n",
       "</div>"
      ],
      "text/plain": [
       "   Time        V1        V2        V3        V4        V5        V6        V7  \\\n",
       "0   0.0 -1.359807 -0.072781  2.536347  1.378155 -0.338321  0.462388  0.239599   \n",
       "1   0.0  1.191857  0.266151  0.166480  0.448154  0.060018 -0.082361 -0.078803   \n",
       "2   1.0 -1.358354 -1.340163  1.773209  0.379780 -0.503198  1.800499  0.791461   \n",
       "3   1.0 -0.966272 -0.185226  1.792993 -0.863291 -0.010309  1.247203  0.237609   \n",
       "4   2.0 -1.158233  0.877737  1.548718  0.403034 -0.407193  0.095921  0.592941   \n",
       "\n",
       "         V8        V9  ...       V21       V22       V23       V24       V25  \\\n",
       "0  0.098698  0.363787  ... -0.018307  0.277838 -0.110474  0.066928  0.128539   \n",
       "1  0.085102 -0.255425  ... -0.225775 -0.638672  0.101288 -0.339846  0.167170   \n",
       "2  0.247676 -1.514654  ...  0.247998  0.771679  0.909412 -0.689281 -0.327642   \n",
       "3  0.377436 -1.387024  ... -0.108300  0.005274 -0.190321 -1.175575  0.647376   \n",
       "4 -0.270533  0.817739  ... -0.009431  0.798278 -0.137458  0.141267 -0.206010   \n",
       "\n",
       "        V26       V27       V28  Amount  Class  \n",
       "0 -0.189115  0.133558 -0.021053  149.62      0  \n",
       "1  0.125895 -0.008983  0.014724    2.69      0  \n",
       "2 -0.139097 -0.055353 -0.059752  378.66      0  \n",
       "3 -0.221929  0.062723  0.061458  123.50      0  \n",
       "4  0.502292  0.219422  0.215153   69.99      0  \n",
       "\n",
       "[5 rows x 31 columns]"
      ]
     },
     "execution_count": 37,
     "metadata": {},
     "output_type": "execute_result"
    }
   ],
   "source": [
    "df.head()\n"
   ]
  },
  {
   "cell_type": "code",
   "execution_count": 38,
   "metadata": {
    "colab": {
     "base_uri": "https://localhost:8080/",
     "height": 1000
    },
    "id": "GBVoq45iuKbl",
    "outputId": "9542620d-a314-47e1-c37b-a4f27e09f53f"
   },
   "outputs": [
    {
     "data": {
      "image/png": "[encoded data removed]",
      "text/plain": [
       "<Figure size 432x288 with 1 Axes>"
      ]
     },
     "metadata": {},
     "output_type": "display_data"
    },
    {
     "data": {
      "image/png": "[encoded data removed]",
      "text/plain": [
       "<Figure size 1440x1440 with 36 Axes>"
      ]
     },
     "metadata": {},
     "output_type": "display_data"
    }
   ],
   "source": [
    "\n",
    "sns.distplot(df['Amount'])\n",
    "\n",
    "sns.distplot(df['Time'])\n",
    "\n",
    "df.hist(figsize=(20,20))\n",
    "plt.show()"
   ]
  },
  {
   "cell_type": "code",
   "execution_count": 39,
   "metadata": {
    "colab": {
     "base_uri": "https://localhost:8080/"
    },
    "id": "KGeKwMlUvC98",
    "outputId": "031dedb8-97ba-47df-95cd-3ad6f28c817b"
   },
   "outputs": [
    {
     "data": {
      "text/plain": [
       "(284807, 31)"
      ]
     },
     "execution_count": 39,
     "metadata": {},
     "output_type": "execute_result"
    }
   ],
   "source": [
    "df.shape"
   ]
  },
  {
   "cell_type": "code",
   "execution_count": 40,
   "metadata": {
    "colab": {
     "base_uri": "https://localhost:8080/",
     "height": 454
    },
    "id": "2m4knHwPwJL5",
    "outputId": "b6788470-c9cc-46fa-9a2c-3e5f46450ce9"
   },
   "outputs": [
    {
     "data": {
      "text/plain": [
       "<seaborn.axisgrid.JointGrid at 0x22552460190>"
      ]
     },
     "execution_count": 40,
     "metadata": {},
     "output_type": "execute_result"
    },
    {
     "data": {
      "image/png": "[encoded data removed]",
      "text/plain": [
       "<Figure size 432x432 with 3 Axes>"
      ]
     },
     "metadata": {},
     "output_type": "display_data"
    }
   ],
   "source": [
    "sns.jointplot(x= 'Time', y= 'Amount', data= df)"
   ]
  },
  {
   "cell_type": "code",
   "execution_count": 41,
   "metadata": {
    "colab": {
     "base_uri": "https://localhost:8080/"
    },
    "id": "ySJzBqQsw1BS",
    "outputId": "462c1432-c723-4fde-9d2c-8f66a718785c"
   },
   "outputs": [
    {
     "data": {
      "text/plain": [
       "284315"
      ]
     },
     "execution_count": 41,
     "metadata": {},
     "output_type": "execute_result"
    }
   ],
   "source": [
    "class0 = df[df['Class']==0]\n",
    "\n",
    "len(class0)"
   ]
  },
  {
   "cell_type": "code",
   "execution_count": 42,
   "metadata": {
    "colab": {
     "base_uri": "https://localhost:8080/"
    },
    "id": "nCYMH1v-xHZq",
    "outputId": "9658b787-dda4-4e57-8134-237fa625aab2"
   },
   "outputs": [
    {
     "data": {
      "text/plain": [
       "492"
      ]
     },
     "execution_count": 42,
     "metadata": {},
     "output_type": "execute_result"
    }
   ],
   "source": [
    "class1 = df[df['Class']==1]\n",
    "\n",
    "len(class1)"
   ]
  },
  {
   "cell_type": "code",
   "execution_count": 43,
   "metadata": {
    "id": "4sAQxBj4xMdv"
   },
   "outputs": [],
   "source": [
    "from sklearn.utils import shuffle\n",
    "# %matplotlib inline\n",
    "import random\n",
    "class0\n",
    "temp = shuffle(class0)"
   ]
  },
  {
   "cell_type": "code",
   "execution_count": 44,
   "metadata": {
    "colab": {
     "base_uri": "https://localhost:8080/"
    },
    "id": "B9wlr0v5xbLj",
    "outputId": "091270ab-2e8a-4e99-82b1-66428bd3bdf9"
   },
   "outputs": [
    {
     "name": "stdout",
     "output_type": "stream",
     "text": [
      "<class 'pandas.core.frame.DataFrame'>\n",
      "Int64Index: 2492 entries, 135951 to 281674\n",
      "Data columns (total 31 columns):\n",
      " #   Column  Non-Null Count  Dtype  \n",
      "---  ------  --------------  -----  \n",
      " 0   Time    2492 non-null   float64\n",
      " 1   V1      2492 non-null   float64\n",
      " 2   V2      2492 non-null   float64\n",
      " 3   V3      2492 non-null   float64\n",
      " 4   V4      2492 non-null   float64\n",
      " 5   V5      2492 non-null   float64\n",
      " 6   V6      2492 non-null   float64\n",
      " 7   V7      2492 non-null   float64\n",
      " 8   V8      2492 non-null   float64\n",
      " 9   V9      2492 non-null   float64\n",
      " 10  V10     2492 non-null   float64\n",
      " 11  V11     2492 non-null   float64\n",
      " 12  V12     2492 non-null   float64\n",
      " 13  V13     2492 non-null   float64\n",
      " 14  V14     2492 non-null   float64\n",
      " 15  V15     2492 non-null   float64\n",
      " 16  V16     2492 non-null   float64\n",
      " 17  V17     2492 non-null   float64\n",
      " 18  V18     2492 non-null   float64\n",
      " 19  V19     2492 non-null   float64\n",
      " 20  V20     2492 non-null   float64\n",
      " 21  V21     2492 non-null   float64\n",
      " 22  V22     2492 non-null   float64\n",
      " 23  V23     2492 non-null   float64\n",
      " 24  V24     2492 non-null   float64\n",
      " 25  V25     2492 non-null   float64\n",
      " 26  V26     2492 non-null   float64\n",
      " 27  V27     2492 non-null   float64\n",
      " 28  V28     2492 non-null   float64\n",
      " 29  Amount  2492 non-null   float64\n",
      " 30  Class   2492 non-null   int64  \n",
      "dtypes: float64(30), int64(1)\n",
      "memory usage: 623.0 KB\n"
     ]
    }
   ],
   "source": [
    "d1 = temp.iloc[:2000,:]\n",
    "\n",
    "d1\n",
    "\n",
    "frames = [d1, class1]\n",
    "df_temp = pd.concat(frames)\n",
    "\n",
    "df_temp.info()\n",
    "\n",
    "df= shuffle(df_temp)\n",
    "\n",
    "df.to_csv('creditcardsampling.csv')\n"
   ]
  },
  {
   "cell_type": "code",
   "execution_count": 45,
   "metadata": {
    "colab": {
     "base_uri": "https://localhost:8080/",
     "height": 302
    },
    "id": "TQPUlxQwxrUl",
    "outputId": "4a43c3b3-d330-4925-f6c0-1ac612579316"
   },
   "outputs": [
    {
     "data": {
      "text/plain": [
       "<matplotlib.axes._subplots.AxesSubplot at 0x225520322b0>"
      ]
     },
     "execution_count": 45,
     "metadata": {},
     "output_type": "execute_result"
    },
    {
     "data": {
      "image/png": "[encoded data removed]",
      "text/plain": [
       "<Figure size 432x288 with 1 Axes>"
      ]
     },
     "metadata": {},
     "output_type": "display_data"
    }
   ],
   "source": [
    "\n",
    "sns.countplot('Class', data=df)"
   ]
  },
  {
   "cell_type": "code",
   "execution_count": 46,
   "metadata": {},
   "outputs": [],
   "source": [
    "\n",
    "\n",
    "import imblearn\n",
    "\n",
    "from imblearn.over_sampling import  SMOTE\n",
    "oversample=SMOTE()\n"
   ]
  },
  {
   "cell_type": "code",
   "execution_count": 47,
   "metadata": {
    "colab": {
     "base_uri": "https://localhost:8080/"
    },
    "id": "-vf_pbtVxxIc",
    "outputId": "085d0a09-828c-4e48-968d-9666b33d185b"
   },
   "outputs": [
    {
     "data": {
      "text/plain": [
       "(4000, 30)"
      ]
     },
     "execution_count": 47,
     "metadata": {},
     "output_type": "execute_result"
    }
   ],
   "source": [
    "\n",
    "X=df.iloc[ : ,:-1]\n",
    "Y=df.iloc[: , -1]\n",
    "X,Y=oversample.fit_resample(X,Y)\n",
    "\n",
    "X=pd.DataFrame(X)\n",
    "X.shape\n"
   ]
  },
  {
   "cell_type": "code",
   "execution_count": 48,
   "metadata": {
    "colab": {
     "base_uri": "https://localhost:8080/",
     "height": 197
    },
    "id": "GWlXX_JVx5po",
    "outputId": "a3408f06-b950-4f13-fe93-a9c5f687ca5d"
   },
   "outputs": [
    {
     "data": {
      "text/html": [
       "<div>\n",
       "<style scoped>\n",
       "    .dataframe tbody tr th:only-of-type {\n",
       "        vertical-align: middle;\n",
       "    }\n",
       "\n",
       "    .dataframe tbody tr th {\n",
       "        vertical-align: top;\n",
       "    }\n",
       "\n",
       "    .dataframe thead th {\n",
       "        text-align: right;\n",
       "    }\n",
       "</style>\n",
       "<table border=\"1\" class=\"dataframe\">\n",
       "  <thead>\n",
       "    <tr style=\"text-align: right;\">\n",
       "      <th></th>\n",
       "      <th>Class</th>\n",
       "    </tr>\n",
       "  </thead>\n",
       "  <tbody>\n",
       "    <tr>\n",
       "      <th>0</th>\n",
       "      <td>0</td>\n",
       "    </tr>\n",
       "    <tr>\n",
       "      <th>1</th>\n",
       "      <td>0</td>\n",
       "    </tr>\n",
       "    <tr>\n",
       "      <th>2</th>\n",
       "      <td>0</td>\n",
       "    </tr>\n",
       "    <tr>\n",
       "      <th>3</th>\n",
       "      <td>1</td>\n",
       "    </tr>\n",
       "    <tr>\n",
       "      <th>4</th>\n",
       "      <td>0</td>\n",
       "    </tr>\n",
       "  </tbody>\n",
       "</table>\n",
       "</div>"
      ],
      "text/plain": [
       "   Class\n",
       "0      0\n",
       "1      0\n",
       "2      0\n",
       "3      1\n",
       "4      0"
      ]
     },
     "execution_count": 48,
     "metadata": {},
     "output_type": "execute_result"
    }
   ],
   "source": [
    "Y=pd.DataFrame(Y)\n",
    "Y.head()"
   ]
  },
  {
   "cell_type": "code",
   "execution_count": 51,
   "metadata": {
    "id": "Gr8jW_s9x_RN"
   },
   "outputs": [],
   "source": [
    "names=['Time','V1','V2','V3','V4','V5','V6','V7','V8','V9','V10','V11','V12','V13','V14','V15','V16','V17','V18','V19','V20','V21','V22','V23','V24','V25','V26','V27','V28','Amount','Class']\n",
    "\n",
    "data=pd.concat([X,Y],axis=1)\n"
   ]
  },
  {
   "cell_type": "code",
   "execution_count": 50,
   "metadata": {
    "colab": {
     "base_uri": "https://localhost:8080/",
     "height": 1000
    },
    "id": "I1dusF2_yHEU",
    "outputId": "6d491311-2f26-4740-880f-4cff592d2e46"
   },
   "outputs": [
    {
     "name": "stdout",
     "output_type": "stream",
     "text": [
      "<class 'pandas.core.frame.DataFrame'>\n",
      "RangeIndex: 4000 entries, 0 to 3999\n",
      "Data columns (total 31 columns):\n",
      " #   Column  Non-Null Count  Dtype  \n",
      "---  ------  --------------  -----  \n",
      " 0   Time    4000 non-null   float64\n",
      " 1   V1      4000 non-null   float64\n",
      " 2   V2      4000 non-null   float64\n",
      " 3   V3      4000 non-null   float64\n",
      " 4   V4      4000 non-null   float64\n",
      " 5   V5      4000 non-null   float64\n",
      " 6   V6      4000 non-null   float64\n",
      " 7   V7      4000 non-null   float64\n",
      " 8   V8      4000 non-null   float64\n",
      " 9   V9      4000 non-null   float64\n",
      " 10  V10     4000 non-null   float64\n",
      " 11  V11     4000 non-null   float64\n",
      " 12  V12     4000 non-null   float64\n",
      " 13  V13     4000 non-null   float64\n",
      " 14  V14     4000 non-null   float64\n",
      " 15  V15     4000 non-null   float64\n",
      " 16  V16     4000 non-null   float64\n",
      " 17  V17     4000 non-null   float64\n",
      " 18  V18     4000 non-null   float64\n",
      " 19  V19     4000 non-null   float64\n",
      " 20  V20     4000 non-null   float64\n",
      " 21  V21     4000 non-null   float64\n",
      " 22  V22     4000 non-null   float64\n",
      " 23  V23     4000 non-null   float64\n",
      " 24  V24     4000 non-null   float64\n",
      " 25  V25     4000 non-null   float64\n",
      " 26  V26     4000 non-null   float64\n",
      " 27  V27     4000 non-null   float64\n",
      " 28  V28     4000 non-null   float64\n",
      " 29  Amount  4000 non-null   float64\n",
      " 30  Class   4000 non-null   float64\n",
      "dtypes: float64(31)\n",
      "memory usage: 968.9 KB\n"
     ]
    },
    {
     "data": {
      "text/plain": [
       "<matplotlib.axes._subplots.AxesSubplot at 0x22552d08250>"
      ]
     },
     "execution_count": 50,
     "metadata": {},
     "output_type": "execute_result"
    },
    {
     "data": {
      "image/png": "[encoded data removed]",
      "text/plain": [
       "<Figure size 432x288 with 1 Axes>"
      ]
     },
     "metadata": {},
     "output_type": "display_data"
    },
    {
     "data": {
      "image/png": "[encoded data removed]",
      "text/plain": [
       "<Figure size 864x720 with 2 Axes>"
      ]
     },
     "metadata": {},
     "output_type": "display_data"
    }
   ],
   "source": [
    "\n",
    "d=data.values\n",
    "\n",
    "data=pd.DataFrame(d,columns=names)\n",
    "\n",
    "sns.countplot('Class', data=data)\n",
    "\n",
    "data.describe()\n",
    "\n",
    "data.info()\n",
    "\n",
    "plt.figure(figsize=(12,10))\n",
    "sns.heatmap(data.corr())\n"
   ]
  },
  {
   "cell_type": "code",
   "execution_count": 52,
   "metadata": {
    "colab": {
     "base_uri": "https://localhost:8080/",
     "height": 197
    },
    "id": "1JN3epfQyM3a",
    "outputId": "32158276-cce3-4582-8186-82753d274a2c"
   },
   "outputs": [
    {
     "data": {
      "text/html": [
       "<div>\n",
       "<style scoped>\n",
       "    .dataframe tbody tr th:only-of-type {\n",
       "        vertical-align: middle;\n",
       "    }\n",
       "\n",
       "    .dataframe tbody tr th {\n",
       "        vertical-align: top;\n",
       "    }\n",
       "\n",
       "    .dataframe thead th {\n",
       "        text-align: right;\n",
       "    }\n",
       "</style>\n",
       "<table border=\"1\" class=\"dataframe\">\n",
       "  <thead>\n",
       "    <tr style=\"text-align: right;\">\n",
       "      <th></th>\n",
       "      <th>Time</th>\n",
       "      <th>Amount</th>\n",
       "    </tr>\n",
       "  </thead>\n",
       "  <tbody>\n",
       "    <tr>\n",
       "      <th>0</th>\n",
       "      <td>-0.323635</td>\n",
       "      <td>-0.421631</td>\n",
       "    </tr>\n",
       "    <tr>\n",
       "      <th>1</th>\n",
       "      <td>1.294335</td>\n",
       "      <td>-0.449412</td>\n",
       "    </tr>\n",
       "    <tr>\n",
       "      <th>2</th>\n",
       "      <td>-1.028949</td>\n",
       "      <td>0.796908</td>\n",
       "    </tr>\n",
       "    <tr>\n",
       "      <th>3</th>\n",
       "      <td>-1.003899</td>\n",
       "      <td>-0.453206</td>\n",
       "    </tr>\n",
       "    <tr>\n",
       "      <th>4</th>\n",
       "      <td>-0.715272</td>\n",
       "      <td>-0.453206</td>\n",
       "    </tr>\n",
       "  </tbody>\n",
       "</table>\n",
       "</div>"
      ],
      "text/plain": [
       "       Time    Amount\n",
       "0 -0.323635 -0.421631\n",
       "1  1.294335 -0.449412\n",
       "2 -1.028949  0.796908\n",
       "3 -1.003899 -0.453206\n",
       "4 -0.715272 -0.453206"
      ]
     },
     "execution_count": 52,
     "metadata": {},
     "output_type": "execute_result"
    }
   ],
   "source": [
    "\n",
    "import math\n",
    "import sklearn.preprocessing\n",
    "\n",
    "from sklearn.model_selection import train_test_split\n",
    "from sklearn.preprocessing import StandardScaler\n",
    "from sklearn.metrics import accuracy_score , classification_report, confusion_matrix, precision_recall_curve, f1_score, auc\n",
    "\n",
    "X_train, X_test, y_train, y_test = train_test_split(data.drop('Class', axis=1), data['Class'], test_size=0.3, random_state=42)\n",
    "\n",
    "\"\"\"# Feature Scaling\"\"\"\n",
    "\n",
    "cols= ['V22', 'V24', 'V25', 'V26', 'V27', 'V28']\n",
    "\n",
    "scaler = StandardScaler()\n",
    "\n",
    "frames= ['Time', 'Amount']\n",
    "\n",
    "x= data[frames]\n",
    "\n",
    "d_temp = data.drop(frames, axis=1)\n",
    "\n",
    "temp_col=scaler.fit_transform(x)\n",
    "\n",
    "scaled_col = pd.DataFrame(temp_col, columns=frames)\n",
    "\n",
    "scaled_col.head()\n"
   ]
  },
  {
   "cell_type": "code",
   "execution_count": 53,
   "metadata": {
    "colab": {
     "base_uri": "https://localhost:8080/",
     "height": 217
    },
    "id": "hmRkV9xVyaaK",
    "outputId": "9a00a95b-806c-4c9f-a187-afaef7d9bd0e"
   },
   "outputs": [
    {
     "data": {
      "text/html": [
       "<div>\n",
       "<style scoped>\n",
       "    .dataframe tbody tr th:only-of-type {\n",
       "        vertical-align: middle;\n",
       "    }\n",
       "\n",
       "    .dataframe tbody tr th {\n",
       "        vertical-align: top;\n",
       "    }\n",
       "\n",
       "    .dataframe thead th {\n",
       "        text-align: right;\n",
       "    }\n",
       "</style>\n",
       "<table border=\"1\" class=\"dataframe\">\n",
       "  <thead>\n",
       "    <tr style=\"text-align: right;\">\n",
       "      <th></th>\n",
       "      <th>Time</th>\n",
       "      <th>Amount</th>\n",
       "      <th>V1</th>\n",
       "      <th>V2</th>\n",
       "      <th>V3</th>\n",
       "      <th>V4</th>\n",
       "      <th>V5</th>\n",
       "      <th>V6</th>\n",
       "      <th>V7</th>\n",
       "      <th>V8</th>\n",
       "      <th>...</th>\n",
       "      <th>V20</th>\n",
       "      <th>V21</th>\n",
       "      <th>V22</th>\n",
       "      <th>V23</th>\n",
       "      <th>V24</th>\n",
       "      <th>V25</th>\n",
       "      <th>V26</th>\n",
       "      <th>V27</th>\n",
       "      <th>V28</th>\n",
       "      <th>Class</th>\n",
       "    </tr>\n",
       "  </thead>\n",
       "  <tbody>\n",
       "    <tr>\n",
       "      <th>0</th>\n",
       "      <td>-0.323635</td>\n",
       "      <td>-0.421631</td>\n",
       "      <td>-1.918995</td>\n",
       "      <td>1.373651</td>\n",
       "      <td>-0.414354</td>\n",
       "      <td>1.188279</td>\n",
       "      <td>0.006461</td>\n",
       "      <td>0.563660</td>\n",
       "      <td>-0.633277</td>\n",
       "      <td>1.427111</td>\n",
       "      <td>...</td>\n",
       "      <td>-0.166350</td>\n",
       "      <td>0.037146</td>\n",
       "      <td>-0.117485</td>\n",
       "      <td>-0.323227</td>\n",
       "      <td>-1.302497</td>\n",
       "      <td>0.088989</td>\n",
       "      <td>-0.163514</td>\n",
       "      <td>-0.197513</td>\n",
       "      <td>-0.081024</td>\n",
       "      <td>0</td>\n",
       "    </tr>\n",
       "    <tr>\n",
       "      <th>1</th>\n",
       "      <td>1.294335</td>\n",
       "      <td>-0.449412</td>\n",
       "      <td>0.087863</td>\n",
       "      <td>0.883077</td>\n",
       "      <td>-0.360816</td>\n",
       "      <td>-0.623780</td>\n",
       "      <td>0.816985</td>\n",
       "      <td>-0.534531</td>\n",
       "      <td>0.760291</td>\n",
       "      <td>0.134858</td>\n",
       "      <td>...</td>\n",
       "      <td>-0.074227</td>\n",
       "      <td>-0.293277</td>\n",
       "      <td>-0.792223</td>\n",
       "      <td>0.118413</td>\n",
       "      <td>0.562583</td>\n",
       "      <td>-0.530875</td>\n",
       "      <td>0.097119</td>\n",
       "      <td>0.213115</td>\n",
       "      <td>0.071707</td>\n",
       "      <td>0</td>\n",
       "    </tr>\n",
       "    <tr>\n",
       "      <th>2</th>\n",
       "      <td>-1.028949</td>\n",
       "      <td>0.796908</td>\n",
       "      <td>0.922334</td>\n",
       "      <td>-1.230894</td>\n",
       "      <td>-0.061969</td>\n",
       "      <td>-0.369005</td>\n",
       "      <td>-1.266351</td>\n",
       "      <td>-1.059961</td>\n",
       "      <td>-0.006634</td>\n",
       "      <td>-0.334865</td>\n",
       "      <td>...</td>\n",
       "      <td>0.011042</td>\n",
       "      <td>-0.239521</td>\n",
       "      <td>-0.786014</td>\n",
       "      <td>-0.170926</td>\n",
       "      <td>0.431963</td>\n",
       "      <td>0.172812</td>\n",
       "      <td>1.014465</td>\n",
       "      <td>-0.114999</td>\n",
       "      <td>0.047594</td>\n",
       "      <td>0</td>\n",
       "    </tr>\n",
       "    <tr>\n",
       "      <th>3</th>\n",
       "      <td>-1.003899</td>\n",
       "      <td>-0.453206</td>\n",
       "      <td>1.083693</td>\n",
       "      <td>1.179501</td>\n",
       "      <td>-1.346150</td>\n",
       "      <td>1.998824</td>\n",
       "      <td>0.818034</td>\n",
       "      <td>-0.771419</td>\n",
       "      <td>0.230307</td>\n",
       "      <td>0.093683</td>\n",
       "      <td>...</td>\n",
       "      <td>-0.060159</td>\n",
       "      <td>-0.312000</td>\n",
       "      <td>-0.639700</td>\n",
       "      <td>-0.120249</td>\n",
       "      <td>-0.180218</td>\n",
       "      <td>0.609283</td>\n",
       "      <td>-0.339524</td>\n",
       "      <td>0.096701</td>\n",
       "      <td>0.114972</td>\n",
       "      <td>1</td>\n",
       "    </tr>\n",
       "    <tr>\n",
       "      <th>4</th>\n",
       "      <td>-0.715272</td>\n",
       "      <td>-0.453206</td>\n",
       "      <td>-1.524318</td>\n",
       "      <td>-0.649439</td>\n",
       "      <td>2.505367</td>\n",
       "      <td>-1.248426</td>\n",
       "      <td>0.871557</td>\n",
       "      <td>1.298612</td>\n",
       "      <td>-0.877187</td>\n",
       "      <td>1.023024</td>\n",
       "      <td>...</td>\n",
       "      <td>-0.118429</td>\n",
       "      <td>0.180251</td>\n",
       "      <td>0.353400</td>\n",
       "      <td>0.024041</td>\n",
       "      <td>-0.999883</td>\n",
       "      <td>-0.263022</td>\n",
       "      <td>0.998584</td>\n",
       "      <td>0.003770</td>\n",
       "      <td>0.042497</td>\n",
       "      <td>0</td>\n",
       "    </tr>\n",
       "  </tbody>\n",
       "</table>\n",
       "<p>5 rows × 31 columns</p>\n",
       "</div>"
      ],
      "text/plain": [
       "       Time    Amount        V1        V2        V3        V4        V5  \\\n",
       "0 -0.323635 -0.421631 -1.918995  1.373651 -0.414354  1.188279  0.006461   \n",
       "1  1.294335 -0.449412  0.087863  0.883077 -0.360816 -0.623780  0.816985   \n",
       "2 -1.028949  0.796908  0.922334 -1.230894 -0.061969 -0.369005 -1.266351   \n",
       "3 -1.003899 -0.453206  1.083693  1.179501 -1.346150  1.998824  0.818034   \n",
       "4 -0.715272 -0.453206 -1.524318 -0.649439  2.505367 -1.248426  0.871557   \n",
       "\n",
       "         V6        V7        V8  ...       V20       V21       V22       V23  \\\n",
       "0  0.563660 -0.633277  1.427111  ... -0.166350  0.037146 -0.117485 -0.323227   \n",
       "1 -0.534531  0.760291  0.134858  ... -0.074227 -0.293277 -0.792223  0.118413   \n",
       "2 -1.059961 -0.006634 -0.334865  ...  0.011042 -0.239521 -0.786014 -0.170926   \n",
       "3 -0.771419  0.230307  0.093683  ... -0.060159 -0.312000 -0.639700 -0.120249   \n",
       "4  1.298612 -0.877187  1.023024  ... -0.118429  0.180251  0.353400  0.024041   \n",
       "\n",
       "        V24       V25       V26       V27       V28  Class  \n",
       "0 -1.302497  0.088989 -0.163514 -0.197513 -0.081024      0  \n",
       "1  0.562583 -0.530875  0.097119  0.213115  0.071707      0  \n",
       "2  0.431963  0.172812  1.014465 -0.114999  0.047594      0  \n",
       "3 -0.180218  0.609283 -0.339524  0.096701  0.114972      1  \n",
       "4 -0.999883 -0.263022  0.998584  0.003770  0.042497      0  \n",
       "\n",
       "[5 rows x 31 columns]"
      ]
     },
     "execution_count": 53,
     "metadata": {},
     "output_type": "execute_result"
    }
   ],
   "source": [
    "d_scaled = pd.concat([scaled_col, d_temp], axis =1)\n",
    "\n",
    "d_scaled.head()\n",
    "\n",
    "y = data['Class']\n",
    "\n",
    "d_scaled.head()"
   ]
  },
  {
   "cell_type": "code",
   "execution_count": 54,
   "metadata": {
    "colab": {
     "base_uri": "https://localhost:8080/"
    },
    "id": "iVYDb9LTygcw",
    "outputId": "68bcbcbe-6df3-46d7-a0fa-fd8f1374413a"
   },
   "outputs": [
    {
     "data": {
      "text/plain": [
       "array([211.14227698,  31.15770847,  25.3952546 ,  10.65211966,\n",
       "        10.37971693,   3.11291294,   2.38867237])"
      ]
     },
     "execution_count": 54,
     "metadata": {},
     "output_type": "execute_result"
    }
   ],
   "source": [
    "\"\"\"# Dimensionality Reduction\"\"\"\n",
    "\n",
    "from sklearn.decomposition import PCA\n",
    "\n",
    "pca = PCA(n_components=7)\n",
    "\n",
    "X_temp_reduced = pca.fit_transform(d_scaled)\n",
    "\n",
    "pca.explained_variance_ratio_\n",
    "\n",
    "pca.explained_variance_\n",
    "\n"
   ]
  },
  {
   "cell_type": "code",
   "execution_count": 56,
   "metadata": {
    "id": "H5_AxzI2ynrE"
   },
   "outputs": [],
   "source": [
    "names=['Time','Amount','Transaction Method','Transaction Id','Location','Type of Card','Bank']\n",
    "\n",
    "X_reduced= pd.DataFrame(X_temp_reduced,columns=names)\n",
    "X_reduced.head()\n",
    "\n",
    "Y=d_scaled['Class']\n"
   ]
  },
  {
   "cell_type": "code",
   "execution_count": 57,
   "metadata": {
    "colab": {
     "base_uri": "https://localhost:8080/"
    },
    "id": "zSOrWcdhyt-6",
    "outputId": "bce71439-6198-4242-dd7d-c0b65e299c3d"
   },
   "outputs": [
    {
     "data": {
      "text/plain": [
       "((2800, 7), (1200, 7))"
      ]
     },
     "execution_count": 57,
     "metadata": {},
     "output_type": "execute_result"
    }
   ],
   "source": [
    "new_data=pd.concat([X_reduced,Y],axis=1)\n",
    "new_data.head()\n",
    "new_data.shape\n",
    "\n",
    "new_data.to_csv('finaldata.csv')\n",
    "\n",
    "X_train, X_test, y_train, y_test= train_test_split(X_reduced, d_scaled['Class'], test_size = 0.30, random_state = 42)\n",
    "\n",
    "X_train.shape, X_test.shape"
   ]
  },
  {
   "cell_type": "code",
   "execution_count": 58,
   "metadata": {
    "colab": {
     "base_uri": "https://localhost:8080/"
    },
    "id": "YGAethEayyAe",
    "outputId": "0bcf80e4-d89a-446f-88ec-ce06aaf57afa"
   },
   "outputs": [
    {
     "data": {
      "text/plain": [
       "array([0, 1, 0, ..., 0, 0, 1], dtype=int64)"
      ]
     },
     "execution_count": 58,
     "metadata": {},
     "output_type": "execute_result"
    }
   ],
   "source": [
    "\n",
    "\"\"\"# Logistic Regression\"\"\"\n",
    "\n",
    "from sklearn.linear_model import LogisticRegression\n",
    "lr=LogisticRegression()\n",
    "lr.fit(X_train,y_train)\n",
    "y_pred_lr=lr.predict(X_test)\n",
    "y_pred_lr"
   ]
  },
  {
   "cell_type": "code",
   "execution_count": 59,
   "metadata": {
    "colab": {
     "base_uri": "https://localhost:8080/"
    },
    "id": "HF_0PyR5y12P",
    "outputId": "629cf26d-ac82-499a-8e93-003024536ca6"
   },
   "outputs": [
    {
     "name": "stdout",
     "output_type": "stream",
     "text": [
      "[[611   8]\n",
      " [ 34 547]]\n"
     ]
    }
   ],
   "source": [
    "\n",
    "from sklearn.metrics import classification_report,confusion_matrix\n",
    "print(confusion_matrix(y_test,y_pred_lr))"
   ]
  },
  {
   "cell_type": "code",
   "execution_count": 60,
   "metadata": {
    "colab": {
     "base_uri": "https://localhost:8080/"
    },
    "id": "jAc5qCGVy6xZ",
    "outputId": "493444b8-0ea6-4774-fe28-4118568850f5"
   },
   "outputs": [
    {
     "data": {
      "text/plain": [
       "{'C': 100, 'penalty': 'l2'}"
      ]
     },
     "execution_count": 60,
     "metadata": {},
     "output_type": "execute_result"
    }
   ],
   "source": [
    "#Hyperparamter tuning \n",
    "from sklearn.model_selection import GridSearchCV\n",
    "lr_model = LogisticRegression()\n",
    "lr_params = {'penalty': ['l1', 'l2'],'C': [0.001, 0.01, 0.1, 1, 10, 100, 1000]}\n",
    "grid_lr= GridSearchCV(lr_model, param_grid = lr_params)\n",
    "grid_lr.fit(X_train, y_train)\n",
    "\n",
    "grid_lr.best_params_"
   ]
  },
  {
   "cell_type": "code",
   "execution_count": 61,
   "metadata": {
    "colab": {
     "base_uri": "https://localhost:8080/"
    },
    "id": "czpSw-QQzAyI",
    "outputId": "39ad79c0-7e6d-4dff-820c-a3c7f1fe4700"
   },
   "outputs": [
    {
     "name": "stdout",
     "output_type": "stream",
     "text": [
      "              precision    recall  f1-score   support\n",
      "\n",
      "           0       0.95      0.99      0.97       619\n",
      "           1       0.99      0.94      0.96       581\n",
      "\n",
      "    accuracy                           0.97      1200\n",
      "   macro avg       0.97      0.97      0.97      1200\n",
      "weighted avg       0.97      0.97      0.97      1200\n",
      "\n"
     ]
    }
   ],
   "source": [
    "y_pred_lr3=grid_lr.predict(X_test)\n",
    "print(classification_report(y_test,y_pred_lr3))"
   ]
  },
  {
   "cell_type": "code",
   "execution_count": 62,
   "metadata": {
    "colab": {
     "base_uri": "https://localhost:8080/"
    },
    "id": "wvOJIMrmzELo",
    "outputId": "b5529187-79c1-4d70-cd37-6b009275bdfb"
   },
   "outputs": [
    {
     "name": "stdout",
     "output_type": "stream",
     "text": [
      "              precision    recall  f1-score   support\n",
      "\n",
      "           0       0.94      0.99      0.97       619\n",
      "           1       0.99      0.93      0.96       581\n",
      "\n",
      "    accuracy                           0.96      1200\n",
      "   macro avg       0.97      0.96      0.96      1200\n",
      "weighted avg       0.96      0.96      0.96      1200\n",
      "\n",
      "[[613   6]\n",
      " [ 38 543]]\n"
     ]
    }
   ],
   "source": [
    "\"\"\"# Support Vector Machine\"\"\"\n",
    "\n",
    "from sklearn.svm import SVC\n",
    "svc=SVC(kernel='rbf')\n",
    "svc.fit(X_train,y_train)\n",
    "y_pred_svc=svc.predict(X_test)\n",
    "y_pred_svc\n",
    "\n",
    "print(classification_report(y_test,y_pred_svc))\n",
    "\n",
    "print(confusion_matrix(y_test,y_pred_svc))"
   ]
  },
  {
   "cell_type": "code",
   "execution_count": 63,
   "metadata": {
    "colab": {
     "base_uri": "https://localhost:8080/"
    },
    "id": "_2TI_ETOzPXU",
    "outputId": "a077c1c5-e5b2-4516-9a85-2d38c9c0856e"
   },
   "outputs": [
    {
     "name": "stdout",
     "output_type": "stream",
     "text": [
      "Best Accuracy: 97.14 %\n",
      "Best Parameters: {'C': 1000, 'gamma': 0.001, 'kernel': 'rbf'}\n"
     ]
    }
   ],
   "source": [
    "\n",
    "from sklearn.model_selection import GridSearchCV\n",
    "parameters = [ {'C': [1, 10, 100, 1000], 'kernel': ['rbf'], 'gamma': [0.1, 1, 0.01, 0.0001 ,0.001]}]\n",
    "grid_search = GridSearchCV(estimator = svc,\n",
    "                           param_grid = parameters,\n",
    "                           scoring = 'accuracy',\n",
    "                           n_jobs = -1)\n",
    "grid_search = grid_search.fit(X_train, y_train)\n",
    "best_accuracy = grid_search.best_score_\n",
    "best_parameters = grid_search.best_params_\n",
    "print(\"Best Accuracy: {:.2f} %\".format(best_accuracy*100))\n",
    "print(\"Best Parameters:\", best_parameters)\n"
   ]
  },
  {
   "cell_type": "code",
   "execution_count": 64,
   "metadata": {
    "colab": {
     "base_uri": "https://localhost:8080/"
    },
    "id": "OedOBr0a3AsD",
    "outputId": "8b83c688-4d0c-4e30-8cec-8016d11590d6"
   },
   "outputs": [
    {
     "name": "stdout",
     "output_type": "stream",
     "text": [
      "              precision    recall  f1-score   support\n",
      "\n",
      "           0       0.95      0.99      0.97       619\n",
      "           1       0.99      0.95      0.97       581\n",
      "\n",
      "    accuracy                           0.97      1200\n",
      "   macro avg       0.97      0.97      0.97      1200\n",
      "weighted avg       0.97      0.97      0.97      1200\n",
      "\n"
     ]
    }
   ],
   "source": [
    "\n",
    "svc_param=SVC(kernel='rbf',gamma=0.01,C=100)\n",
    "svc_param.fit(X_train,y_train)\n",
    "y_pred_svc2=svc_param.predict(X_test)\n",
    "print(classification_report(y_test,y_pred_svc2))"
   ]
  },
  {
   "cell_type": "code",
   "execution_count": 65,
   "metadata": {
    "colab": {
     "base_uri": "https://localhost:8080/"
    },
    "id": "XC_iZpEpzVyU",
    "outputId": "65f3e51a-83f4-404e-f933-7f97a58f0e50"
   },
   "outputs": [
    {
     "name": "stdout",
     "output_type": "stream",
     "text": [
      "              precision    recall  f1-score   support\n",
      "\n",
      "           0       0.96      0.96      0.96       619\n",
      "           1       0.96      0.96      0.96       581\n",
      "\n",
      "    accuracy                           0.96      1200\n",
      "   macro avg       0.96      0.96      0.96      1200\n",
      "weighted avg       0.96      0.96      0.96      1200\n",
      "\n",
      "[[594  25]\n",
      " [ 26 555]]\n",
      "              precision    recall  f1-score   support\n",
      "\n",
      "           0       0.94      0.96      0.95       619\n",
      "           1       0.96      0.94      0.95       581\n",
      "\n",
      "    accuracy                           0.95      1200\n",
      "   macro avg       0.95      0.95      0.95      1200\n",
      "weighted avg       0.95      0.95      0.95      1200\n",
      "\n"
     ]
    }
   ],
   "source": [
    "\n",
    "\"\"\"# Decision Tree\"\"\"\n",
    "\n",
    "from sklearn.tree import DecisionTreeClassifier\n",
    "dtree=DecisionTreeClassifier()\n",
    "dtree.fit(X_train,y_train)\n",
    "y_pred_dtree=dtree.predict(X_test)\n",
    "print(classification_report(y_test,y_pred_dtree))\n",
    "\n",
    "print(confusion_matrix(y_test,y_pred_dtree))\n",
    "\n",
    "d_tree_param=DecisionTreeClassifier()\n",
    "tree_parameters={'criterion':['gini','entropy'],'max_depth':list(range(2,4,1)),\n",
    "                 'min_samples_leaf':list(range(5,7,1))}\n",
    "grid_tree=GridSearchCV(d_tree_param,tree_parameters)\n",
    "grid_tree.fit(X_train,y_train)\n",
    "\n",
    "y_pred_dtree2=grid_tree.predict(X_test)\n",
    "\n",
    "print(classification_report(y_test,y_pred_dtree2))\n",
    "\n"
   ]
  },
  {
   "cell_type": "code",
   "execution_count": 66,
   "metadata": {
    "colab": {
     "base_uri": "https://localhost:8080/"
    },
    "id": "OhLvrNvIzeeo",
    "outputId": "e04f6173-82f8-4565-c0c3-6e0c77401340"
   },
   "outputs": [
    {
     "name": "stdout",
     "output_type": "stream",
     "text": [
      "[[604  15]\n",
      " [ 28 553]]\n",
      "              precision    recall  f1-score   support\n",
      "\n",
      "           0       0.96      0.98      0.97       619\n",
      "           1       0.97      0.95      0.96       581\n",
      "\n",
      "    accuracy                           0.96      1200\n",
      "   macro avg       0.96      0.96      0.96      1200\n",
      "weighted avg       0.96      0.96      0.96      1200\n",
      "\n"
     ]
    }
   ],
   "source": [
    "\n",
    "\"\"\"# Random Forest\"\"\"\n",
    "\n",
    "from sklearn.ensemble import RandomForestClassifier\n",
    "randomforest=RandomForestClassifier(n_estimators=5)\n",
    "randomforest.fit(X_train,y_train)\n",
    "y_pred_rf=randomforest.predict(X_test)\n",
    "print(confusion_matrix(y_test,y_pred_rf))\n",
    "\n",
    "print(classification_report(y_test,y_pred_rf))\n",
    "\n"
   ]
  },
  {
   "cell_type": "code",
   "execution_count": 67,
   "metadata": {
    "colab": {
     "base_uri": "https://localhost:8080/"
    },
    "id": "k11gBZi8zrGC",
    "outputId": "2768af88-9548-45cd-ccce-1694c83f0893"
   },
   "outputs": [
    {
     "name": "stdout",
     "output_type": "stream",
     "text": [
      "              precision    recall  f1-score   support\n",
      "\n",
      "           0       0.96      0.98      0.97       619\n",
      "           1       0.98      0.96      0.97       581\n",
      "\n",
      "    accuracy                           0.97      1200\n",
      "   macro avg       0.97      0.97      0.97      1200\n",
      "weighted avg       0.97      0.97      0.97      1200\n",
      "\n",
      "[[609  10]\n",
      " [ 26 555]]\n",
      "WITH K=3\n",
      "\n",
      "\n",
      "[[613   6]\n",
      " [ 28 553]]\n",
      "\n",
      "\n",
      "              precision    recall  f1-score   support\n",
      "\n",
      "           0       0.96      0.99      0.97       619\n",
      "           1       0.99      0.95      0.97       581\n",
      "\n",
      "    accuracy                           0.97      1200\n",
      "   macro avg       0.97      0.97      0.97      1200\n",
      "weighted avg       0.97      0.97      0.97      1200\n",
      "\n"
     ]
    }
   ],
   "source": [
    "\n",
    "\n",
    "\"\"\"# K Nearest Neighbors\"\"\"\n",
    "\n",
    "from sklearn.neighbors import KNeighborsClassifier\n",
    "knn=KNeighborsClassifier(n_neighbors=5)\n",
    "knn.fit(X_train,y_train)\n",
    "y_pred_knn=knn.predict(X_test)\n",
    "y_pred_knn\n",
    "\n",
    "print(classification_report(y_test,y_pred_knn))\n",
    "\n",
    "print(confusion_matrix(y_test,y_pred_knn))\n",
    "\n",
    "knn_param=KNeighborsClassifier()\n",
    "knn_params={\"n_neighbors\": list(range(2,5,1)), 'algorithm': ['auto', 'ball_tree', 'kd_tree', 'brute']}\n",
    "grid_knn=GridSearchCV(knn_param,param_grid=knn_params)\n",
    "grid_knn.fit(X_train,y_train)\n",
    "grid_knn.best_params_\n",
    "\n",
    "knn = KNeighborsClassifier(n_neighbors=2)\n",
    "\n",
    "knn.fit(X_train,y_train)\n",
    "pred_knn2 = knn.predict(X_test)\n",
    "\n",
    "print('WITH K=3')\n",
    "print('\\n')\n",
    "print(confusion_matrix(y_test,pred_knn2))\n",
    "print('\\n')\n",
    "print(classification_report(y_test,pred_knn2))"
   ]
  },
  {
   "cell_type": "code",
   "execution_count": null,
   "metadata": {},
   "outputs": [],
   "source": [
    "\n"
   ]
  },
  {
   "cell_type": "code",
   "execution_count": null,
   "metadata": {
    "colab": {
     "base_uri": "https://localhost:8080/"
    },
    "id": "edbe1mOQzywM",
    "outputId": "304bfe35-bc0d-4739-9b29-9b1e65ca6f51"
   },
   "outputs": [],
   "source": [
    "\n",
    "\n"
   ]
  },
  {
   "cell_type": "code",
   "execution_count": 68,
   "metadata": {
    "colab": {
     "base_uri": "https://localhost:8080/",
     "height": 628
    },
    "id": "vD3BrHdrz8h0",
    "outputId": "b2bb47ce-eec2-4a57-bca1-b430bc660b80"
   },
   "outputs": [
    {
     "data": {
      "image/png": "[encoded data removed]",
      "text/plain": [
       "<Figure size 1080x720 with 1 Axes>"
      ]
     },
     "metadata": {},
     "output_type": "display_data"
    }
   ],
   "source": [
    "\n",
    "\"\"\"# ROC\"\"\"\n",
    "\n",
    "from sklearn.metrics import roc_curve,roc_auc_score\n",
    "lg_fpr,lg_tpr,lg_threshold=roc_curve(y_test,y_pred_lr3)\n",
    "svc_fpr,svc_tpr,svc_threshold=roc_curve(y_test,y_pred_svc2)\n",
    "dtree_fpr,dtree_tpr,dtree_threshold=roc_curve(y_test,y_pred_dtree2)\n",
    "rf_fpr,rf_tpr,rf_threshold=roc_curve(y_test,y_pred_rf)\n",
    "knn_fpr,knn_tpr,rf_threshold=roc_curve(y_test,pred_knn2)\n",
    "\n",
    "\n",
    "plt.figure(figsize=(15,10))\n",
    "plt.title(\"Roc Curve\")\n",
    "plt.plot(lg_fpr,lg_tpr, label='Logistic Regression Classifier Score: {:.4f}'.format(roc_auc_score(y_test, y_pred_lr3)))\n",
    "plt.plot(knn_fpr,knn_tpr, label='KNears Neighbors Classifier Score: {:.4f}'.format(roc_auc_score(y_test, pred_knn2)))\n",
    "plt.plot(svc_fpr, svc_tpr, label='Support Vector Classifier Score: {:.4f}'.format(roc_auc_score(y_test, y_pred_svc2)))\n",
    "plt.plot(dtree_fpr, dtree_tpr, label='Decision Tree Classifier Score: {:.4f}'.format(roc_auc_score(y_test, y_pred_dtree2)))\n",
    "plt.plot(rf_fpr,rf_tpr, label='Random Forest Classifier Score: {:.4f}'.format(roc_auc_score(y_test, y_pred_rf)))\n",
    "plt.xlabel('False Positive Rate', fontsize=16)\n",
    "plt.ylabel('True Positive Rate', fontsize=16)\n",
    "plt.legend()\n",
    "plt.show()\n"
   ]
  },
  {
   "cell_type": "code",
   "execution_count": 69,
   "metadata": {
    "id": "OWrWcL-V2rR_"
   },
   "outputs": [],
   "source": [
    "import pickle\n",
    "# Saving model to disk\n",
    "pickle.dump(svc_param, open('model.pkl','wb'))\n",
    "\n",
    "model=pickle.load(open('model.pkl','rb'))"
   ]
  },
  {
   "cell_type": "code",
   "execution_count": null,
   "metadata": {
    "id": "8Xt2DVbY2sHY"
   },
   "outputs": [],
   "source": []
  }
 ],
 "metadata": {
  "colab": {
   "collapsed_sections": [],
   "name": "credit card fraud detection.ipynb",
   "provenance": []
  },
  "kernelspec": {
   "display_name": "Python 3",
   "language": "python",
   "name": "python3"
  },
  "language_info": {
   "codemirror_mode": {
    "name": "ipython",
    "version": 3
   },
   "file_extension": ".py",
   "mimetype": "text/x-python",
   "name": "python",
   "nbconvert_exporter": "python",
   "pygments_lexer": "ipython3",
   "version": "3.8.3"
  }
 },
 "nbformat": 4,
 "nbformat_minor": 1
}
